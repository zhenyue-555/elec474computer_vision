{
 "cells": [
  {
   "cell_type": "code",
   "execution_count": 1,
   "id": "72a12aa1-8f12-4e51-959b-53c2c0eadf01",
   "metadata": {},
   "outputs": [],
   "source": [
    "from matplotlib import pyplot as plt\n",
    "import numpy as np\n",
    "import sklearn\n",
    "import cv2\n",
    "import math\n",
    "from random import randint"
   ]
  },
  {
   "cell_type": "code",
   "execution_count": 2,
   "id": "47cbe035-55c3-4fc7-a618-09ef2884d068",
   "metadata": {},
   "outputs": [],
   "source": [
    "global img\n",
    "img = cv2.imread(\"SAFlag.jpg\")\n",
    "global img_copy\n",
    "img_copy = img.copy()\n",
    "global k_total\n",
    "global h\n",
    "global w\n",
    "global c\n",
    "h, w, c = img.shape"
   ]
  },
  {
   "cell_type": "code",
   "execution_count": 3,
   "id": "ea7340a2-094c-469a-9ed6-2e073c58a4b9",
   "metadata": {},
   "outputs": [],
   "source": [
    "def trackbar(x):\n",
    "    global k \n",
    "    k = cv2.getTrackbarPos(\"K_Val\",\"image\")"
   ]
  },
  {
   "cell_type": "code",
   "execution_count": 4,
   "id": "f5944184-8234-4b59-adbf-b2594124f56e",
   "metadata": {},
   "outputs": [],
   "source": [
    "#randomly select k point\n",
    "def K_generator(k_total):\n",
    "    global k_point\n",
    "    k_point = []\n",
    "    for k in range(k_total):   \n",
    "        x = randint(0,h - 1)\n",
    "        y = randint(0,w - 1)\n",
    "        k_point.append(img_copy[x,y]) \n",
    "    "
   ]
  },
  {
   "cell_type": "code",
   "execution_count": 5,
   "id": "ce917325-b9da-4d38-80bc-1ccfbc5d624c",
   "metadata": {},
   "outputs": [],
   "source": [
    "def voronoi_region(event, x, y, flag, param):\n",
    "    #k_point = K_generator(k_total)\n",
    "    h, w, c = img.shape\n",
    "    cv2.imshow('image',img_copy)\n",
    "    idx = 0\n",
    "    ssd = 0\n",
    "    flag = 0\n",
    "       \n",
    "    if event == cv2.EVENT_LBUTTONUP:     \n",
    "        while(not flag):\n",
    "            threshold = round(255/k_total)\n",
    "            k_sum = np.zeros([3,k_total])\n",
    "            save = np.zeros(k_total,dtype=int)\n",
    "            means = np.zeros([3,k_total])\n",
    "            \n",
    "            k_cluster = {idx:[] for idx in range(k_total)} #generate 5 empty list as cluster lists\n",
    "            print(\"please wait for 30 ~ 50 seconds\")\n",
    "            print(k_cluster)\n",
    "            for x in range(h):\n",
    "                for y in range(w):\n",
    "                    current_color = img_copy[x][y]\n",
    "                    min_diff = 442\n",
    "                    mini = -1\n",
    "                    for idx in range(k_total):\n",
    "                        k_color = k_point[idx] #get current k color\n",
    "                        b = np.square(abs(int(current_color[0]) - int(k_color[0])))\n",
    "                        g = np.square(abs(int(current_color[1]) - int(k_color[1])))\n",
    "                        r = np.square(abs(int(current_color[2]) - int(k_color[2])))\n",
    "                        ssd = math.sqrt(b + g + r)\n",
    "                #get color difference\n",
    "                        if (ssd < min_diff):\n",
    "                                min_diff = ssd\n",
    "                                mini = idx               #print(index)\n",
    "                    for idx in range(3):\n",
    "                        k_sum[idx][mini] = k_sum[idx][mini] + current_color[idx]\n",
    "                    save[mini] = save[mini] + 1\n",
    "                    \n",
    "                    k_cluster[mini].append([x,y]) #get the corresponding k color of the pixel\n",
    "        \n",
    "                \n",
    "            for idx in range(3):\n",
    "                means[idx] = [i/j for i, j in zip(k_sum[idx],save)]\n",
    "        \n",
    "            for idx in range(k_total):\n",
    "                b_diff = abs(means[0][idx]-k_point[idx][0])\n",
    "                g_diff = abs(means[1][idx]-k_point[idx][1])\n",
    "                r_diff = abs(means[2][idx]-k_point[idx][2])\n",
    "                \n",
    "                \n",
    "                if (b_diff > threshold or g_diff > threshold or r_diff > threshold):                  \n",
    "                    for idx in range(k_total):\n",
    "                        k_point[idx] = [round(means[0][idx]),round(means[1][idx]),round(means[2][idx])]\n",
    "                    flag = 0\n",
    "                    break\n",
    "                else:\n",
    "                    flag = 1\n",
    "                    for idx in range(k_total):\n",
    "                        for c_col in k_cluster[idx]:\n",
    "                            img_copy[c_col[0]][c_col[1]] = [round(means[0][idx]),round(means[1][idx]),round(means[2][idx])]\n",
    "               \n"
   ]
  },
  {
   "cell_type": "code",
   "execution_count": 6,
   "id": "4756263d-e618-4f5c-85c4-f3af7f2eda98",
   "metadata": {},
   "outputs": [
    {
     "name": "stdout",
     "output_type": "stream",
     "text": [
      "please wait for 30 ~ 50 seconds\n",
      "the total number of K is listed below: (it is a random number between 2 to 20)\n",
      "{0: [], 1: [], 2: [], 3: []}\n"
     ]
    }
   ],
   "source": [
    "k_total = randint(2,20)\n",
    "\n",
    "cv2.namedWindow('image')\n",
    "cv2.createTrackbar('K_Val','image',2,20,K_generator)\n",
    "cv2.setMouseCallback('image',voronoi_region)\n",
    "\n",
    "K_generator(k_total) #get k\n",
    "\n",
    "#cv2.imshow('img',img_copy)\n",
    "k = cv2.waitKey(0) & 0XFF\n",
    "if k == 27:\n",
    "    cv2.destroyAllWindows()"
   ]
  },
  {
   "cell_type": "code",
   "execution_count": null,
   "id": "b9e95a55-76ec-429b-9be0-9b4769c9863e",
   "metadata": {},
   "outputs": [],
   "source": []
  }
 ],
 "metadata": {
  "kernelspec": {
   "display_name": "Python 3",
   "language": "python",
   "name": "python3"
  },
  "language_info": {
   "codemirror_mode": {
    "name": "ipython",
    "version": 3
   },
   "file_extension": ".py",
   "mimetype": "text/x-python",
   "name": "python",
   "nbconvert_exporter": "python",
   "pygments_lexer": "ipython3",
   "version": "3.8.8"
  }
 },
 "nbformat": 4,
 "nbformat_minor": 5
}
