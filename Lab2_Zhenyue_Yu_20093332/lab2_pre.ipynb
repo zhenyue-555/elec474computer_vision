{
 "cells": [
  {
   "cell_type": "code",
   "execution_count": 1,
   "id": "3dabef18-a433-412a-84be-03b29c9a7968",
   "metadata": {},
   "outputs": [],
   "source": [
    "from matplotlib import pyplot as plt\n",
    "import numpy as np\n",
    "import sklearn\n",
    "import cv2\n",
    "import math"
   ]
  },
  {
   "cell_type": "markdown",
   "id": "2031a2db-285c-414e-8cf2-e8504f7c407e",
   "metadata": {},
   "source": [
    "Define global variables"
   ]
  },
  {
   "cell_type": "code",
   "execution_count": 2,
   "id": "5fb45f17-dfd4-45a7-8e52-513b01da2714",
   "metadata": {
    "tags": []
   },
   "outputs": [],
   "source": [
    "global img\n",
    "img = cv2.imread(\"baboon1.png\")\n",
    "img2_original = cv2.imread(\"baboon.jpg\")\n",
    "img2 = cv2.resize(img2_original, (512, 512))\n",
    "h,w,c = img2.shape\n",
    "global img_copy\n",
    "img_copy = cv2.imread(\"baboon1.png\")\n",
    "img2_copy = cv2.resize(img2_original, (512, 512))\n",
    "global threshold\n",
    "threshold = 0"
   ]
  },
  {
   "cell_type": "markdown",
   "id": "55c571c5-c510-4b48-9c1d-55e05015ad88",
   "metadata": {},
   "source": [
    "setting track bar position"
   ]
  },
  {
   "cell_type": "code",
   "execution_count": 3,
   "id": "c4135848-dfeb-432b-a96b-a698f468f623",
   "metadata": {},
   "outputs": [],
   "source": [
    "def trackbar(x):\n",
    "    global threshold \n",
    "    threshold = cv2.getTrackbarPos(\"threshold\",\"image\")"
   ]
  },
  {
   "cell_type": "markdown",
   "id": "6c6e212d-2af1-4be4-9385-dc56822e751b",
   "metadata": {},
   "source": [
    "Compare the abusolate difference between the pixel point and the seed point, if difference is larger than threshold, return false"
   ]
  },
  {
   "cell_type": "code",
   "execution_count": 4,
   "id": "5d62686d-ca4a-4a79-acc5-2c4fee61956e",
   "metadata": {
    "tags": []
   },
   "outputs": [],
   "source": [
    "\n",
    "def CompareDiff(seed,currentPixel,threshold):  \n",
    "    s1 = img_copy[seed[1], seed[0]][0]\n",
    "    s2 = img_copy[seed[1], seed[0]][1]\n",
    "    s3 = img_copy[seed[1], seed[0]][2]\n",
    "    \n",
    "    c1 = img[currentPixel[1], currentPixel[0]][0]\n",
    "    c2 = img[currentPixel[1], currentPixel[0]][1]\n",
    "    c3 = img[currentPixel[1], currentPixel[0]][2]\n",
    "    \n",
    "    diff_0 = abs(int(s1) - int(c1))\n",
    "    diff_1 = abs(int(s2) - int(c2))\n",
    "    diff_2 = abs(int(s3) - int(c3))\n",
    "    if ((diff_0 < threshold) and (diff_1 < threshold) and (diff_2 < threshold)):\n",
    "        return True\n",
    "    else:\n",
    "        return False\n",
    "     "
   ]
  },
  {
   "cell_type": "code",
   "execution_count": 5,
   "id": "ec132fec-5777-48b5-978c-8aebed280a67",
   "metadata": {},
   "outputs": [],
   "source": [
    "def CompareDiff2(seed,currentPixel,threshold):  \n",
    "    s1 = img2_copy[seed[1], seed[0]][0]\n",
    "    s2 = img2_copy[seed[1], seed[0]][1]\n",
    "    s3 = img2_copy[seed[1], seed[0]][2]\n",
    "    \n",
    "    c1 = img2[currentPixel[1], currentPixel[0]][0]\n",
    "    c2 = img2[currentPixel[1], currentPixel[0]][1]\n",
    "    c3 = img2[currentPixel[1], currentPixel[0]][2]\n",
    "    \n",
    "    diff_0 = abs(int(s1) - int(c1))\n",
    "    diff_1 = abs(int(s2) - int(c2))\n",
    "    diff_2 = abs(int(s3) - int(c3))\n",
    "    if ((diff_0 < threshold) and (diff_1 < threshold) and (diff_2 < threshold)):\n",
    "        return True\n",
    "    else:\n",
    "        return False\n",
    "     "
   ]
  },
  {
   "cell_type": "markdown",
   "id": "a10ea8b9-9e64-4ee6-8185-44714b66e759",
   "metadata": {},
   "source": [
    "Make sure the pixel is in the image"
   ]
  },
  {
   "cell_type": "code",
   "execution_count": 6,
   "id": "313ac453-3e2c-4584-9677-1ac49bf2c2b7",
   "metadata": {},
   "outputs": [],
   "source": [
    "\n",
    "def Bound(coordinate):\n",
    "    if ((coordinate[1] < img.shape[0]) and (coordinate[0] < img.shape[1])):\n",
    "        return True\n",
    "    else:\n",
    "        return False"
   ]
  },
  {
   "cell_type": "code",
   "execution_count": 7,
   "id": "10b045de-def1-4d17-af5b-849fd9dc1cf9",
   "metadata": {},
   "outputs": [],
   "source": [
    "def Bound2(coordinate):\n",
    "    if ((coordinate[1] < img2.shape[0]) and (coordinate[0] < img2.shape[1])):\n",
    "        return True\n",
    "    else:\n",
    "        return False"
   ]
  },
  {
   "cell_type": "markdown",
   "id": "737ad7aa-c13a-4137-81d5-7d6af9d8f4df",
   "metadata": {},
   "source": [
    "4 connectivity"
   ]
  },
  {
   "cell_type": "code",
   "execution_count": 8,
   "id": "e5a3f0d4-a3bb-4a5d-a4df-e3e3767b461d",
   "metadata": {},
   "outputs": [],
   "source": [
    "def Flood_Fill(img,  seed, threshold):\n",
    "    visited = np.zeros(img.shape[:2], img.dtype) #create a blank image to store imput pixel\n",
    "    stack = []\n",
    "    count = 0\n",
    "    stack.append(seed) #push the seed pixel\n",
    "     \n",
    "    while(len(stack) != 0):\n",
    "        current_Pixel = stack.pop()\n",
    "        visited[current_Pixel[1], current_Pixel[0]] = 255\n",
    "        \n",
    "        if CompareDiff(seed,current_Pixel,threshold):\n",
    "       \n",
    "                img[current_Pixel[1], current_Pixel[0]][0] = 255\n",
    "                img[current_Pixel[1], current_Pixel[0]][1] = 0\n",
    "                img[current_Pixel[1], current_Pixel[0]][2] = 0\n",
    "        #change current pixel's color to blue\n",
    "                up = [current_Pixel[0],(current_Pixel[1] + 1)]\n",
    "                if( Bound(up) and (visited[up[1],up[0]] != 255)):\n",
    "                    stack.append(up)\n",
    "            \n",
    "                down = [current_Pixel[0],(current_Pixel[1] - 1)]\n",
    "                if( Bound(down) and (visited[down[1],down[0]] != 255)):\n",
    "                    stack.append(down)\n",
    "            \n",
    "                left = [(current_Pixel[0] + 1),current_Pixel[1]]\n",
    "                if( Bound(left) and (visited[left[1],left[0]] != 255)):\n",
    "                    stack.append(left)\n",
    "            \n",
    "                right = [(current_Pixel[0] - 1),current_Pixel[1]]       \n",
    "                if( Bound(right) and (visited[right[1],right[0]] != 255)):\n",
    "                    stack.append(right)\n",
    "        \n",
    "                \n",
    "   "
   ]
  },
  {
   "cell_type": "code",
   "execution_count": 9,
   "id": "612f0e57-4b40-4874-a79e-91714e315eee",
   "metadata": {},
   "outputs": [],
   "source": [
    "def Flood_Fill2(img,  seed, threshold):\n",
    "    visited = np.zeros(img.shape[:2], img.dtype) #create a blank image to store imput pixel\n",
    "    stack = []\n",
    "    count = 0\n",
    "    stack.append(seed) #push the seed pixel\n",
    "     \n",
    "    while(len(stack) != 0):\n",
    "        current_Pixel = stack.pop()\n",
    "        visited[current_Pixel[1], current_Pixel[0]] = 255\n",
    "        \n",
    "        if CompareDiff2(seed,current_Pixel,threshold):\n",
    "       \n",
    "                img[current_Pixel[1], current_Pixel[0]][0] = 255\n",
    "                img[current_Pixel[1], current_Pixel[0]][1] = 0\n",
    "                img[current_Pixel[1], current_Pixel[0]][2] = 0\n",
    "        #change current pixel's color to blue\n",
    "                up = [current_Pixel[0],(current_Pixel[1] + 1)]\n",
    "                if( Bound2(up) and (visited[up[1],up[0]] != 255)):\n",
    "                    stack.append(up)\n",
    "            \n",
    "                down = [current_Pixel[0],(current_Pixel[1] - 1)]\n",
    "                if( Bound2(down) and (visited[down[1],down[0]] != 255)):\n",
    "                    stack.append(down)\n",
    "            \n",
    "                left = [(current_Pixel[0] + 1),current_Pixel[1]]\n",
    "                if( Bound2(left) and (visited[left[1],left[0]] != 255)):\n",
    "                    stack.append(left)\n",
    "            \n",
    "                right = [(current_Pixel[0] - 1),current_Pixel[1]]       \n",
    "                if( Bound2(right) and (visited[right[1],right[0]] != 255)):\n",
    "                    stack.append(right)"
   ]
  },
  {
   "cell_type": "code",
   "execution_count": 10,
   "id": "9afdc315-25ca-4555-9d79-cc3d59bad047",
   "metadata": {},
   "outputs": [],
   "source": [
    "def OnMouseAction1(event, x, y, flags, param):\n",
    "    cv2.imshow('image',img)\n",
    "    if event == cv2.EVENT_LBUTTONDOWN: \n",
    "        seed = [x,y]\n",
    "        Flood_Fill(img, seed, threshold)\n",
    "        \n",
    "        "
   ]
  },
  {
   "cell_type": "code",
   "execution_count": 11,
   "id": "46228599-8fe8-4c9b-9407-757e640ccdaa",
   "metadata": {},
   "outputs": [],
   "source": [
    "def OnMouseAction2(event, x, y, flags, param):\n",
    "    cv2.imshow('image',img2)\n",
    "    if event == cv2.EVENT_LBUTTONDOWN: \n",
    "        seed = [x,y]\n",
    "        Flood_Fill2(img2, seed, threshold)"
   ]
  },
  {
   "cell_type": "code",
   "execution_count": 12,
   "id": "27eebdbe-a3f3-4195-8728-2314a811cc31",
   "metadata": {},
   "outputs": [],
   "source": [
    "cv2.namedWindow('image')\n",
    "\n",
    "cv2.createTrackbar(\"threshold\", \"image\", 0, 255,trackbar)\n",
    "cv2.setMouseCallback('image',OnMouseAction1)     \n",
    "\n",
    "\n",
    "k = cv2.waitKey(0) & 0XFF\n",
    "if k == 27:\n",
    "    cv2.destroyAllWindows()"
   ]
  },
  {
   "cell_type": "code",
   "execution_count": 13,
   "id": "4c628d8f-9ccb-49f3-9f08-69f2738fe75a",
   "metadata": {},
   "outputs": [],
   "source": [
    "cv2.namedWindow('image')\n",
    "\n",
    "cv2.createTrackbar(\"threshold\", \"image\", 0, 255,trackbar)\n",
    "cv2.setMouseCallback('image',OnMouseAction2)     \n",
    "\n",
    "k = cv2.waitKey(0) & 0XFF\n",
    "if k == 27:\n",
    "    cv2.destroyAllWindows()"
   ]
  }
 ],
 "metadata": {
  "kernelspec": {
   "display_name": "Python 3",
   "language": "python",
   "name": "python3"
  },
  "language_info": {
   "codemirror_mode": {
    "name": "ipython",
    "version": 3
   },
   "file_extension": ".py",
   "mimetype": "text/x-python",
   "name": "python",
   "nbconvert_exporter": "python",
   "pygments_lexer": "ipython3",
   "version": "3.8.8"
  }
 },
 "nbformat": 4,
 "nbformat_minor": 5
}
